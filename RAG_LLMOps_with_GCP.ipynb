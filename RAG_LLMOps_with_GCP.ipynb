{
  "nbformat": 4,
  "nbformat_minor": 0,
  "metadata": {
    "colab": {
      "provenance": [],
      "toc_visible": true
    },
    "kernelspec": {
      "name": "python3",
      "display_name": "Python 3"
    },
    "language_info": {
      "name": "python"
    }
  },
  "cells": [
    {
      "cell_type": "markdown",
      "source": [
        "# 1.Setup"
      ],
      "metadata": {
        "id": "cwKWAVwhe1ns"
      }
    },
    {
      "cell_type": "markdown",
      "source": [
        "## Installation\n",
        "\n",
        "We would require ther following additional packages:\n",
        "1. google-cloud-storage==2.17.0\n",
        "2. google-cloud-documentai==2.29.1\n",
        "3. google-cloud-aiplatform==1.49.0\n",
        "4. vertexai==1.49.0"
      ],
      "metadata": {
        "id": "N43YcbM0iePE"
      }
    },
    {
      "cell_type": "code",
      "execution_count": null,
      "metadata": {
        "colab": {
          "base_uri": "https://localhost:8080/"
        },
        "id": "Jmb3xqKDer-6",
        "outputId": "a708c985-a410-4619-aa78-672495525d76"
      },
      "outputs": [
        {
          "output_type": "stream",
          "name": "stdout",
          "text": [
            "\u001b[2K     \u001b[90m━━━━━━━━━━━━━━━━━━━━━━━━━━━━━━━━━━━━━━━━\u001b[0m \u001b[32m126.5/126.5 kB\u001b[0m \u001b[31m3.0 MB/s\u001b[0m eta \u001b[36m0:00:00\u001b[0m\n",
            "\u001b[2K     \u001b[90m━━━━━━━━━━━━━━━━━━━━━━━━━━━━━━━━━━━━━━━━\u001b[0m \u001b[32m315.1/315.1 kB\u001b[0m \u001b[31m6.3 MB/s\u001b[0m eta \u001b[36m0:00:00\u001b[0m\n",
            "\u001b[2K     \u001b[90m━━━━━━━━━━━━━━━━━━━━━━━━━━━━━━━━━━━━━━━━\u001b[0m \u001b[32m4.9/4.9 MB\u001b[0m \u001b[31m38.6 MB/s\u001b[0m eta \u001b[36m0:00:00\u001b[0m\n",
            "\u001b[?25h\u001b[33mWARNING: google-cloud-aiplatform 1.49.0 does not provide the extra 'all'\u001b[0m\u001b[33m\n",
            "\u001b[0m"
          ]
        }
      ],
      "source": [
        "!pip install --upgrade --quiet google-cloud-storage==2.17.0\n",
        "!pip install --upgrade --quiet google-cloud-documentai==2.29.1\n",
        "!pip install --upgrade --quiet google-cloud-aiplatform==1.49.0\n",
        "!pip install --upgrade --quiet vertexai==1.49.0"
      ]
    },
    {
      "cell_type": "markdown",
      "source": [
        "## Create a GCP project and setup configs for it."
      ],
      "metadata": {
        "id": "UrDjZvb9iTqE"
      }
    },
    {
      "cell_type": "code",
      "source": [
        "!gcloud auth application-default login\n",
        "!gcloud config set project rag-llmops-gcp\n",
        "!gcloud config get-value project"
      ],
      "metadata": {
        "id": "piVNMLNhhuUy"
      },
      "execution_count": 86,
      "outputs": []
    },
    {
      "cell_type": "code",
      "source": [
        "# Run the following code if the colab notebook performs incomplete authentication.\n",
        "# !gcloud auth login"
      ],
      "metadata": {
        "id": "P6iLU6F1nmJV"
      },
      "execution_count": 87,
      "outputs": []
    },
    {
      "cell_type": "code",
      "source": [
        "PROJECT_ID_DETAILS = !gcloud config get-value project\n",
        "PROJECT_ID = PROJECT_ID_DETAILS[0]\n",
        "PROJECT_NUMBER_DETAILS = !gcloud projects describe $PROJECT_ID --format=\"value(projectNumber)\"\n",
        "PROJECT_NUMBER = PROJECT_NUMBER_DETAILS[0]  # The project number is item 0 in the list returned by the gcloud command\n",
        "\n",
        "\n",
        "# !gsutil mb -l us-central1 gs://{BUCKET}\n",
        "BUCKET=f\"{PROJECT_ID}-bucket\"\n",
        "REGION=\"northamerica-northeast1\"\n",
        "print(f\"Project ID: {PROJECT_ID}\")\n",
        "print(f\"Project Number: {PROJECT_NUMBER}\")\n",
        "print(f\"Bucket Name: {BUCKET}\")"
      ],
      "metadata": {
        "id": "tdj-wATigt7f"
      },
      "execution_count": 88,
      "outputs": []
    },
    {
      "cell_type": "markdown",
      "source": [
        "#2.Divide documents in chunks\n",
        "\n",
        "Get sample doc from git"
      ],
      "metadata": {
        "id": "Yyb-QwMoqOFu"
      }
    },
    {
      "cell_type": "code",
      "source": [
        "# !git clone https://github.com/Sahilvohra58/gen-ai-on-google-cloud.git"
      ],
      "metadata": {
        "colab": {
          "base_uri": "https://localhost:8080/"
        },
        "id": "AuqquGlYnK44",
        "outputId": "4412f369-bb72-4259-9903-9b3f6e7ddaa2"
      },
      "execution_count": null,
      "outputs": [
        {
          "output_type": "stream",
          "name": "stdout",
          "text": [
            "Cloning into 'gen-ai-on-google-cloud'...\n",
            "remote: Enumerating objects: 3, done.\u001b[K\n",
            "remote: Counting objects: 100% (3/3), done.\u001b[K\n",
            "remote: Compressing objects: 100% (2/2), done.\u001b[K\n",
            "remote: Total 3 (delta 0), reused 0 (delta 0), pack-reused 0\u001b[K\n",
            "Receiving objects: 100% (3/3), 685.69 KiB | 9.52 MiB/s, done.\n"
          ]
        }
      ]
    },
    {
      "cell_type": "markdown",
      "source": [
        "## Create a document AI processor\n",
        "\n",
        "Useful resources:\n",
        "- https://cloud.google.com/document-ai/docs/samples/documentai-create-processor?hl=en\n",
        "- https://cloud.google.com/document-ai/docs/overview#dai-processors\n",
        "- https://cloud.google.com/python/docs/reference/documentai/1.2.1/google.cloud.documentai_v1beta3.services.document_processor_service.DocumentProcessorServiceClient\n",
        "- https://cloud.google.com/document-ai/docs/layout-parse-chunk (How to create chunks from docs. Not mentioned in the video)\n"
      ],
      "metadata": {
        "id": "XCvjP8yUtquR"
      }
    },
    {
      "cell_type": "code",
      "source": [
        "from datetime import datetime\n",
        "from google.api_core.client_options import ClientOptions\n",
        "from google.cloud import documentai\n",
        "\n",
        "UID = datetime.now().strftime(\"%m%d%H%M\")\n",
        "\n",
        "location = 'us'\n",
        "processor_display_name = f\"RAG-Chunking-Processor-{UID}\"\n",
        "processor_type = 'LAYOUT_PARSER_PROCESSOR'\n",
        "\n",
        "opts = ClientOptions(api_endpoint=f\"{location}-documentai.googleapis.com\")\n",
        "client = documentai.DocumentProcessorServiceClient(client_options=opts)\n",
        "\n",
        "parent = client.common_location_path(PROJECT_NUMBER, location)\n",
        "\n",
        "processor = client.create_processor(\n",
        "    parent=parent,\n",
        "    processor=documentai.Processor(\n",
        "        display_name=processor_display_name, type_=processor_type\n",
        "    ),\n",
        ")\n",
        "\n",
        "print(f\"Processor Name: {processor.name}\")\n",
        "print(f\"Processor Display Name: {processor.display_name}\")\n",
        "print(f\"Processor Type: {processor.type_}\")\n",
        "print(f\"Processor State: {processor.state}\")\n",
        "\n",
        "processor_name = processor.name"
      ],
      "metadata": {
        "colab": {
          "base_uri": "https://localhost:8080/"
        },
        "id": "9Emx2Y6QrL38",
        "outputId": "efca92b8-afdf-4c99-c31c-13ab097ed311"
      },
      "execution_count": null,
      "outputs": [
        {
          "output_type": "stream",
          "name": "stdout",
          "text": [
            "Processor Name: projects/314626027617/locations/us/processors/5d7d5f3c2d28335\n",
            "Processor Display Name: RAG-Chunking-Processor-07090208\n",
            "Processor Type: LAYOUT_PARSER_PROCESSOR\n",
            "Processor State: 1\n"
          ]
        }
      ]
    },
    {
      "cell_type": "markdown",
      "source": [
        "## Parse document(s) into chunks"
      ],
      "metadata": {
        "id": "BXQaVnfFwNa_"
      }
    },
    {
      "cell_type": "code",
      "source": [
        "from typing import Optional\n",
        "from google.cloud import documentai_v1beta3 as documentai\n",
        "\n",
        "file_path = \"/content/gen-ai-on-google-cloud/Cinnamon.pdf\"\n",
        "mime_type = \"application/pdf\"\n",
        "\n",
        "def process_document_sample(\n",
        "    project_id: str,\n",
        "    location: str,\n",
        "    processor_name: str,\n",
        "    file_path: str,\n",
        "    mime_type: str,\n",
        ") -> None:\n",
        "    opts = ClientOptions(api_endpoint=f\"{location}-documentai.googleapis.com\")\n",
        "\n",
        "    name = processor_name\n",
        "    client = documentai.DocumentProcessorServiceClient(client_options=opts)\n",
        "\n",
        "    with open(file_path, \"rb\") as image:\n",
        "        image_content = image.read()\n",
        "\n",
        "    raw_document = documentai.RawDocument(content=image_content, mime_type=mime_type)\n",
        "\n",
        "    process_options = documentai.ProcessOptions(\n",
        "        layout_config=documentai.ProcessOptions.LayoutConfig(\n",
        "            chunking_config=documentai.ProcessOptions.LayoutConfig.ChunkingConfig(\n",
        "                chunk_size=200,\n",
        "                include_ancestor_headings=True\n",
        "            )\n",
        "        )\n",
        "    )\n",
        "\n",
        "\n",
        "    request = documentai.ProcessRequest(\n",
        "        name=name,\n",
        "        raw_document=raw_document,\n",
        "        process_options=process_options,\n",
        "    )\n",
        "\n",
        "    result = client.process_document(request=request)\n",
        "    document = result.document\n",
        "    return document\n",
        "\n",
        "document_object = process_document_sample(PROJECT_NUMBER, location, processor_name, file_path, mime_type)\n",
        "\n",
        "doc_layout = document_object.document_layout\n",
        "chunked_doc = document_object.chunked_document"
      ],
      "metadata": {
        "id": "qb9lPny_vH-Z"
      },
      "execution_count": null,
      "outputs": []
    },
    {
      "cell_type": "code",
      "source": [
        "print(doc_layout.blocks[:2])"
      ],
      "metadata": {
        "colab": {
          "base_uri": "https://localhost:8080/"
        },
        "id": "J73MAdQwv8w7",
        "outputId": "715d65d0-883b-4fb3-d16f-24a116be8748"
      },
      "execution_count": null,
      "outputs": [
        {
          "output_type": "stream",
          "name": "stdout",
          "text": [
            "[block_id: \"1\"\n",
            "text_block {\n",
            "  text: \"ASN\"\n",
            "  type_: \"paragraph\"\n",
            "}\n",
            "page_span {\n",
            "  page_start: 1\n",
            "  page_end: 1\n",
            "}\n",
            ", block_id: \"2\"\n",
            "text_block {\n",
            "  text: \"EST. 1928\"\n",
            "  type_: \"paragraph\"\n",
            "}\n",
            "page_span {\n",
            "  page_start: 1\n",
            "  page_end: 1\n",
            "}\n",
            "]\n"
          ]
        }
      ]
    },
    {
      "cell_type": "code",
      "source": [
        "text_chunks = [chunk.content for chunk in chunked_doc.chunks]\n",
        "print(text_chunks[:5])"
      ],
      "metadata": {
        "colab": {
          "base_uri": "https://localhost:8080/"
        },
        "id": "tFIu4Q1wwCrv",
        "outputId": "ca0b58b2-f7c3-4824-bb48-c1b84098f7a3"
      },
      "execution_count": null,
      "outputs": [
        {
          "output_type": "stream",
          "name": "stdout",
          "text": [
            "['ASNEST. 1928AmericanSociety forNutritionExcellence in Nutrition Research and PracticeThe American Journal ofCLINICAL NUTRITIONjournal homepage: https://ajcn.nutrition.org/Themerican JournalCLINICAL NUTRITIONOriginal Research Article', '# Effect of cinnamon spice on continuously monitored glycemic response in adults with prediabetes: a 4-week randomized controlled crossover trial\\n\\nHila Zelicha¹, Jieping Yang 2, Susanne M Henning 2, Jianjun Huang 2, Ru-Po Lee2, Gail Thames 2, Edward H Livingston¹, David Heber², Zhaoping Li 2,*Department of Surgery, University of California, Los Angeles, Los Angeles, CA, United States; 2 Department of Medicine, Center for Human Nutrition, David Geffen School of Medicine, Los Angeles, United States', '# Effect of cinnamon spice on continuously monitored glycemic response in adults with prediabetes: a 4-week randomized controlled crossover trial\\n\\n## ABSTRACT\\n\\nCheck for updatesBackground: Previous clinical studies showing that cinnamon spice lowers blood glucose concentrations had inconsistent results. Objectives: To determine the effect of daily cinnamon spice supplementation in an amount commonly used for seasoning on glucose concentrations in adults with obesity and prediabetes.Methods: Following a 2-wk run-in period of maintaining a low polyphenol/fiber diet, 18 participants with obesity and prediabetes underwent a 10-wk randomized, controlled, double-blind, crossover trial (mean age 51.1 y; mean fasting plasma glucose 102.9~mg/dL). The participants were randomly assigned to take cinnamon (4~g/d) or placebo for 4-wk, followed by a 2-wk washout period, and then crossed over to the other intervention for an additional 4-wk. Glucose changes were measured with continuous glucose monitoring. Oral glucose tolerance testing immediately following ingestion of cinnamon or placebo was performed at 4-time points to assess their acute effects both at the baseline and end of each intervention phase. Digestive symptom logs were obtained daily.', '# Effect of cinnamon spice on continuously monitored glycemic response in adults with prediabetes: a 4-week randomized controlled crossover trial\\n\\n## ABSTRACT\\n\\nResults: There were 694 follow-up days with 66,624 glucose observations. When compared with placebo, 24-h glucose concentrations were significantly lower when cinnamon was administered [mixed-models; effect size (ES)=0.96; 95% confidence interval (CI): -2.9, -1.5; P<0.0017. Similarly, the mean net-area-under-the-curve (netAUC) for glucose was significantly lower than for placebo when cinnamon was given (over 24 h; ES=-0.66:95\\\\% CI: 2501.7, 5412.1, P=0.01). Cinnamon supplementation resulted in lower glucose peaks compared with placebo (Apeak 9.56\\\\pm9.1~mg/dI compared with 11.73\\\\pm8.0~mg/dL; ES = -0.57; 95% CI: 0.8, 3.7, P=0.027). Glucose-dependent-insulinotropic-polypeptide concentrations increased during oral glucose tolerance testing + cinnamon testing (mixed-models; ES = 0.51; 95% CI: 1.56, 100.1, P=0.04, whereas triglyceride concentrations decreased (mixed-models; ES=0.55; 95% CI: -16.0, -1.6, P=0.02. Treatment adherence was excellent in both groups (cinnamon: 97.6\\\\pm3.4\\\\% compared with placebo: 97.9+3.7\\\\%; ES=-0.15; 95% CI: -1.8, 0.2, P=0.5. No differences were found in digestive symptoms (abdominal pain, borborygmi, bloating, excess flatus, and stools/day) between cinnamon and placebo groups.Conclusions: Cinnamon, a widely available and low-cost supplement, may contribute to better glucose control when added to the diet in people who have obesity-related prediabetes.', '# Effect of cinnamon spice on continuously monitored glycemic response in adults with prediabetes: a 4-week randomized controlled crossover trial\\n\\n## ABSTRACT\\n\\nThis trial was registered at clinicaltrials.gov as NCT04342624.Keywords: cinnamon, continuous glucose system, glycemic response, polyphenols, prediabetes']\n"
          ]
        }
      ]
    },
    {
      "cell_type": "markdown",
      "source": [
        "\n",
        "#3.Convert to embeddings\n",
        "\n",
        "- https://cloud.google.com/vertex-ai/generative-ai/docs/embeddings/get-text-embeddings\n",
        "- https://cloud.google.com/vertex-ai/generative-ai/docs/model-reference/text-embeddings-api\n",
        "- https://cloud.google.com/vertex-ai/docs/vector-search/setup/format-structure"
      ],
      "metadata": {
        "id": "wixjVqfF6_D3"
      }
    },
    {
      "cell_type": "code",
      "source": [
        "import os\n",
        "os.environ[\"GOOGLE_CLOUD_PROJECT\"] = PROJECT_ID\n",
        "\n",
        "!gcloud auth application-default set-quota-project $PROJECT_ID\n",
        "\n",
        "## Restart kernel after this!!"
      ],
      "metadata": {
        "colab": {
          "base_uri": "https://localhost:8080/"
        },
        "id": "BbFaXzMAHUi8",
        "outputId": "2c07baad-4a49-400b-d550-4dc2bebbdcb6"
      },
      "execution_count": null,
      "outputs": [
        {
          "output_type": "stream",
          "name": "stdout",
          "text": [
            "\n",
            "Credentials saved to file: [/content/.config/application_default_credentials.json]\n",
            "\n",
            "These credentials will be used by any library that requests Application Default Credentials (ADC).\n",
            "\n",
            "Quota project \"rag-llmops-gcp\" was added to ADC which can be used by Google client libraries for billing and quota. Note that some services may still bill the project owning the resource.\n"
          ]
        }
      ]
    },
    {
      "cell_type": "markdown",
      "source": [
        "## Get embeddings from chunks"
      ],
      "metadata": {
        "id": "nIg-bVz2NR1K"
      }
    },
    {
      "cell_type": "code",
      "source": [
        "from typing import List\n",
        "\n",
        "from vertexai.language_models import TextEmbeddingInput, TextEmbeddingModel\n",
        "\n",
        "\n",
        "def embed_text(\n",
        "    texts: List[str] = text_chunks,  # Use your extracted chunks\n",
        "    task: str = \"RETRIEVAL_DOCUMENT\",\n",
        "    model_name: str = \"textembedding-gecko@003\",\n",
        ") -> List[List[float]]:\n",
        "    model = TextEmbeddingModel.from_pretrained(model_name)\n",
        "    inputs = [TextEmbeddingInput(text, task) for text in texts]\n",
        "    embeddings = model.get_embeddings(inputs)\n",
        "    return [embedding.values for embedding in embeddings]\n",
        "\n",
        "embeddings = embed_text(text_chunks)"
      ],
      "metadata": {
        "id": "pebyinA1zfyi"
      },
      "execution_count": null,
      "outputs": []
    },
    {
      "cell_type": "markdown",
      "source": [
        "## Export all embeddings to gcs"
      ],
      "metadata": {
        "id": "64OeYioaNWcP"
      }
    },
    {
      "cell_type": "code",
      "source": [
        "import json\n",
        "filename = f\"embeddings-{UID}.json\"\n",
        "\n",
        "def create_embeddings_jsonl(text_chunks, embeddings, filename):\n",
        "    with open(filename, 'w') as outfile:\n",
        "        for idx, (text, embedding) in enumerate(zip(text_chunks, embeddings)):\n",
        "            data = {\n",
        "                \"id\": idx,\n",
        "                \"text\": text,\n",
        "                \"embedding\": embedding\n",
        "            }\n",
        "            json.dump(data, outfile, separators=(',', ':'))\n",
        "            outfile.write('\\n')\n",
        "\n",
        "create_embeddings_jsonl(text_chunks, embeddings, filename)"
      ],
      "metadata": {
        "id": "YV2Wj1Tl7gFN"
      },
      "execution_count": null,
      "outputs": []
    },
    {
      "cell_type": "code",
      "source": [
        "embeddings_path = f\"gs://{BUCKET}/embeddings-data-{UID}/batch_root/\"\n",
        "!gsutil cp {filename} {embeddings_path}"
      ],
      "metadata": {
        "colab": {
          "base_uri": "https://localhost:8080/"
        },
        "id": "cnoz8lwemuGD",
        "outputId": "a4e763f1-7aaf-4fd6-b505-8925b29bfe6d"
      },
      "execution_count": null,
      "outputs": [
        {
          "output_type": "stream",
          "name": "stdout",
          "text": [
            "Copying file://embeddings-07090208.json [Content-Type=application/json]...\n",
            "-\n",
            "Operation completed over 1 objects/1.1 MiB.                                      \n"
          ]
        }
      ]
    },
    {
      "cell_type": "code",
      "source": [
        "embeddings[0][0]"
      ],
      "metadata": {
        "colab": {
          "base_uri": "https://localhost:8080/"
        },
        "id": "Es2k3JWKMw48",
        "outputId": "30a838e3-1b8b-4857-e0d1-3ff7f490eb67"
      },
      "execution_count": null,
      "outputs": [
        {
          "output_type": "execute_result",
          "data": {
            "text/plain": [
              "0.021643755957484245"
            ]
          },
          "metadata": {},
          "execution_count": 56
        }
      ]
    },
    {
      "cell_type": "markdown",
      "source": [
        "# 4.Create Vector Search index\n",
        "\n",
        "- https://cloud.google.com/vertex-ai/docs/vector-search/create-manage-index\n",
        "- https://cloud.google.com/vertex-ai/docs/vector-search/configuring-indexes\n",
        "- https://cloud.google.com/vertex-ai/docs/vector-search/configuring-indexes#distance-measure-type\n",
        "- https://cloud.google.com/python/docs/reference/aiplatform/latest/google.cloud.aiplatform.MatchingEngineIndexEndpoint#google_cloud_aiplatform_MatchingEngineIndexEndpoint_deploy_index"
      ],
      "metadata": {
        "id": "X_i4kroHNdFR"
      }
    },
    {
      "cell_type": "code",
      "source": [
        "first_embedding = embeddings[0]\n",
        "embeddings_dimensionality = len(first_embedding)\n",
        "print(f\"Embeddings dimensionality: {embeddings_dimensionality}\")"
      ],
      "metadata": {
        "colab": {
          "base_uri": "https://localhost:8080/"
        },
        "id": "8gksIcrBMyhn",
        "outputId": "2d730c38-7574-44f0-9768-258c6039a039"
      },
      "execution_count": null,
      "outputs": [
        {
          "output_type": "stream",
          "name": "stdout",
          "text": [
            "Embeddings dimensionality: 768\n"
          ]
        }
      ]
    },
    {
      "cell_type": "markdown",
      "source": [
        "##Setup Index"
      ],
      "metadata": {
        "id": "GD2VLMuWOgXx"
      }
    },
    {
      "cell_type": "code",
      "source": [
        "from google.cloud import aiplatform\n",
        "\n",
        "def vector_search_create_index(\n",
        "    project: str, location: str, display_name: str, gcs_uri: Optional[str] = None\n",
        ") -> None:\n",
        "\n",
        "    aiplatform.init(project=project, location=location, staging_bucket=BUCKET)\n",
        "\n",
        "\n",
        "    index = aiplatform.MatchingEngineIndex.create_tree_ah_index(\n",
        "        display_name=display_name,\n",
        "        contents_delta_uri=f\"{embeddings_path}\",\n",
        "        description=\"RAG Index\",\n",
        "        dimensions=embeddings_dimensionality,\n",
        "        approximate_neighbors_count=50,\n",
        "        leaf_node_embedding_count=500,\n",
        "        leaf_nodes_to_search_percent=7,\n",
        "        index_update_method=\"batch_update\",\n",
        "        distance_measure_type=\"DOT_PRODUCT_DISTANCE\",\n",
        "    )\n",
        "    return(index)\n",
        "\n",
        "\n",
        "display_name = f\"RAG-index-{UID}\"\n",
        "vvs_index = vector_search_create_index(PROJECT_ID, REGION, display_name)"
      ],
      "metadata": {
        "colab": {
          "base_uri": "https://localhost:8080/"
        },
        "id": "Zj4XEVLIN_us",
        "outputId": "11524b23-a955-46f1-c475-efc35a8c173a"
      },
      "execution_count": null,
      "outputs": [
        {
          "output_type": "stream",
          "name": "stderr",
          "text": [
            "INFO:google.cloud.aiplatform.matching_engine.matching_engine_index:Creating MatchingEngineIndex\n",
            "INFO:google.cloud.aiplatform.matching_engine.matching_engine_index:Create MatchingEngineIndex backing LRO: projects/314626027617/locations/northamerica-northeast1/indexes/5046494488701173760/operations/3335232733172465664\n",
            "INFO:google.cloud.aiplatform.matching_engine.matching_engine_index:MatchingEngineIndex created. Resource name: projects/314626027617/locations/northamerica-northeast1/indexes/5046494488701173760\n",
            "INFO:google.cloud.aiplatform.matching_engine.matching_engine_index:To use this MatchingEngineIndex in another session:\n",
            "INFO:google.cloud.aiplatform.matching_engine.matching_engine_index:index = aiplatform.MatchingEngineIndex('projects/314626027617/locations/northamerica-northeast1/indexes/5046494488701173760')\n"
          ]
        }
      ]
    },
    {
      "cell_type": "markdown",
      "source": [
        "## Create index endpoint and deploy\n",
        "\n",
        "- Check the console to see the the deployment process live. The below code might timeout but the console would finish deploying in 1-2 hours."
      ],
      "metadata": {
        "id": "UyU2-9V4Okev"
      }
    },
    {
      "cell_type": "code",
      "source": [
        "vvs_index_endpoint = aiplatform.MatchingEngineIndexEndpoint.create(\n",
        "    display_name = f\"index-endpoint-{UID}\",\n",
        "    public_endpoint_enabled = True\n",
        ")\n",
        "\n",
        "DEPLOYED_INDEX_ID = f\"deployed_index_{UID}\"\n",
        "\n",
        "vvs_index_endpoint.deploy_index(\n",
        "    index = vvs_index, deployed_index_id = DEPLOYED_INDEX_ID, deploy_request_timeout=2000\n",
        ")"
      ],
      "metadata": {
        "colab": {
          "base_uri": "https://localhost:8080/",
          "height": 670
        },
        "id": "5I58Qt3jOdOq",
        "outputId": "e4f601ca-b740-439c-edf6-52eb804e22fc"
      },
      "execution_count": null,
      "outputs": [
        {
          "output_type": "stream",
          "name": "stderr",
          "text": [
            "INFO:google.cloud.aiplatform.matching_engine.matching_engine_index_endpoint:Creating MatchingEngineIndexEndpoint\n",
            "INFO:google.cloud.aiplatform.matching_engine.matching_engine_index_endpoint:Create MatchingEngineIndexEndpoint backing LRO: projects/314626027617/locations/northamerica-northeast1/indexEndpoints/8155033762749480960/operations/1099195518183014400\n",
            "INFO:google.cloud.aiplatform.matching_engine.matching_engine_index_endpoint:MatchingEngineIndexEndpoint created. Resource name: projects/314626027617/locations/northamerica-northeast1/indexEndpoints/8155033762749480960\n",
            "INFO:google.cloud.aiplatform.matching_engine.matching_engine_index_endpoint:To use this MatchingEngineIndexEndpoint in another session:\n",
            "INFO:google.cloud.aiplatform.matching_engine.matching_engine_index_endpoint:index_endpoint = aiplatform.MatchingEngineIndexEndpoint('projects/314626027617/locations/northamerica-northeast1/indexEndpoints/8155033762749480960')\n",
            "INFO:google.cloud.aiplatform.matching_engine.matching_engine_index_endpoint:Deploying index MatchingEngineIndexEndpoint index_endpoint: projects/314626027617/locations/northamerica-northeast1/indexEndpoints/8155033762749480960\n",
            "INFO:google.cloud.aiplatform.matching_engine.matching_engine_index_endpoint:Deploy index MatchingEngineIndexEndpoint index_endpoint backing LRO: projects/314626027617/locations/northamerica-northeast1/indexEndpoints/8155033762749480960/operations/5621935443969835008\n"
          ]
        },
        {
          "output_type": "error",
          "ename": "TimeoutError",
          "evalue": "Operation did not complete within the designated timeout of 900 seconds.",
          "traceback": [
            "\u001b[0;31m---------------------------------------------------------------------------\u001b[0m",
            "\u001b[0;31m_OperationNotComplete\u001b[0m                     Traceback (most recent call last)",
            "\u001b[0;32m/usr/local/lib/python3.10/dist-packages/google/api_core/retry/retry_unary.py\u001b[0m in \u001b[0;36mretry_target\u001b[0;34m(target, predicate, sleep_generator, timeout, on_error, exception_factory, **kwargs)\u001b[0m\n\u001b[1;32m    143\u001b[0m         \u001b[0;32mtry\u001b[0m\u001b[0;34m:\u001b[0m\u001b[0;34m\u001b[0m\u001b[0;34m\u001b[0m\u001b[0m\n\u001b[0;32m--> 144\u001b[0;31m             \u001b[0mresult\u001b[0m \u001b[0;34m=\u001b[0m \u001b[0mtarget\u001b[0m\u001b[0;34m(\u001b[0m\u001b[0;34m)\u001b[0m\u001b[0;34m\u001b[0m\u001b[0;34m\u001b[0m\u001b[0m\n\u001b[0m\u001b[1;32m    145\u001b[0m             \u001b[0;32mif\u001b[0m \u001b[0minspect\u001b[0m\u001b[0;34m.\u001b[0m\u001b[0misawaitable\u001b[0m\u001b[0;34m(\u001b[0m\u001b[0mresult\u001b[0m\u001b[0;34m)\u001b[0m\u001b[0;34m:\u001b[0m\u001b[0;34m\u001b[0m\u001b[0;34m\u001b[0m\u001b[0m\n",
            "\u001b[0;32m/usr/local/lib/python3.10/dist-packages/google/api_core/future/polling.py\u001b[0m in \u001b[0;36m_done_or_raise\u001b[0;34m(self, retry)\u001b[0m\n\u001b[1;32m    119\u001b[0m         \u001b[0;32mif\u001b[0m \u001b[0;32mnot\u001b[0m \u001b[0mself\u001b[0m\u001b[0;34m.\u001b[0m\u001b[0mdone\u001b[0m\u001b[0;34m(\u001b[0m\u001b[0mretry\u001b[0m\u001b[0;34m=\u001b[0m\u001b[0mretry\u001b[0m\u001b[0;34m)\u001b[0m\u001b[0;34m:\u001b[0m\u001b[0;34m\u001b[0m\u001b[0;34m\u001b[0m\u001b[0m\n\u001b[0;32m--> 120\u001b[0;31m             \u001b[0;32mraise\u001b[0m \u001b[0m_OperationNotComplete\u001b[0m\u001b[0;34m(\u001b[0m\u001b[0;34m)\u001b[0m\u001b[0;34m\u001b[0m\u001b[0;34m\u001b[0m\u001b[0m\n\u001b[0m\u001b[1;32m    121\u001b[0m \u001b[0;34m\u001b[0m\u001b[0m\n",
            "\u001b[0;31m_OperationNotComplete\u001b[0m: ",
            "\nThe above exception was the direct cause of the following exception:\n",
            "\u001b[0;31mRetryError\u001b[0m                                Traceback (most recent call last)",
            "\u001b[0;32m/usr/local/lib/python3.10/dist-packages/google/api_core/future/polling.py\u001b[0m in \u001b[0;36m_blocking_poll\u001b[0;34m(self, timeout, retry, polling)\u001b[0m\n\u001b[1;32m    136\u001b[0m         \u001b[0;32mtry\u001b[0m\u001b[0;34m:\u001b[0m\u001b[0;34m\u001b[0m\u001b[0;34m\u001b[0m\u001b[0m\n\u001b[0;32m--> 137\u001b[0;31m             \u001b[0mpolling\u001b[0m\u001b[0;34m(\u001b[0m\u001b[0mself\u001b[0m\u001b[0;34m.\u001b[0m\u001b[0m_done_or_raise\u001b[0m\u001b[0;34m)\u001b[0m\u001b[0;34m(\u001b[0m\u001b[0mretry\u001b[0m\u001b[0;34m=\u001b[0m\u001b[0mretry\u001b[0m\u001b[0;34m)\u001b[0m\u001b[0;34m\u001b[0m\u001b[0;34m\u001b[0m\u001b[0m\n\u001b[0m\u001b[1;32m    138\u001b[0m         \u001b[0;32mexcept\u001b[0m \u001b[0mexceptions\u001b[0m\u001b[0;34m.\u001b[0m\u001b[0mRetryError\u001b[0m\u001b[0;34m:\u001b[0m\u001b[0;34m\u001b[0m\u001b[0;34m\u001b[0m\u001b[0m\n",
            "\u001b[0;32m/usr/local/lib/python3.10/dist-packages/google/api_core/retry/retry_unary.py\u001b[0m in \u001b[0;36mretry_wrapped_func\u001b[0;34m(*args, **kwargs)\u001b[0m\n\u001b[1;32m    292\u001b[0m             )\n\u001b[0;32m--> 293\u001b[0;31m             return retry_target(\n\u001b[0m\u001b[1;32m    294\u001b[0m                 \u001b[0mtarget\u001b[0m\u001b[0;34m,\u001b[0m\u001b[0;34m\u001b[0m\u001b[0;34m\u001b[0m\u001b[0m\n",
            "\u001b[0;32m/usr/local/lib/python3.10/dist-packages/google/api_core/retry/retry_unary.py\u001b[0m in \u001b[0;36mretry_target\u001b[0;34m(target, predicate, sleep_generator, timeout, on_error, exception_factory, **kwargs)\u001b[0m\n\u001b[1;32m    152\u001b[0m             \u001b[0;31m# defer to shared logic for handling errors\u001b[0m\u001b[0;34m\u001b[0m\u001b[0;34m\u001b[0m\u001b[0m\n\u001b[0;32m--> 153\u001b[0;31m             _retry_error_helper(\n\u001b[0m\u001b[1;32m    154\u001b[0m                 \u001b[0mexc\u001b[0m\u001b[0;34m,\u001b[0m\u001b[0;34m\u001b[0m\u001b[0;34m\u001b[0m\u001b[0m\n",
            "\u001b[0;32m/usr/local/lib/python3.10/dist-packages/google/api_core/retry/retry_base.py\u001b[0m in \u001b[0;36m_retry_error_helper\u001b[0;34m(exc, deadline, next_sleep, error_list, predicate_fn, on_error_fn, exc_factory_fn, original_timeout)\u001b[0m\n\u001b[1;32m    220\u001b[0m         )\n\u001b[0;32m--> 221\u001b[0;31m         \u001b[0;32mraise\u001b[0m \u001b[0mfinal_exc\u001b[0m \u001b[0;32mfrom\u001b[0m \u001b[0msource_exc\u001b[0m\u001b[0;34m\u001b[0m\u001b[0;34m\u001b[0m\u001b[0m\n\u001b[0m\u001b[1;32m    222\u001b[0m     _LOGGER.debug(\n",
            "\u001b[0;31mRetryError\u001b[0m: Timeout of 900.0s exceeded, last exception: ",
            "\nDuring handling of the above exception, another exception occurred:\n",
            "\u001b[0;31mTimeoutError\u001b[0m                              Traceback (most recent call last)",
            "\u001b[0;32m<ipython-input-59-d10eb14d552e>\u001b[0m in \u001b[0;36m<cell line: 8>\u001b[0;34m()\u001b[0m\n\u001b[1;32m      6\u001b[0m \u001b[0mDEPLOYED_INDEX_ID\u001b[0m \u001b[0;34m=\u001b[0m \u001b[0;34mf\"deployed_index_{UID}\"\u001b[0m\u001b[0;34m\u001b[0m\u001b[0;34m\u001b[0m\u001b[0m\n\u001b[1;32m      7\u001b[0m \u001b[0;34m\u001b[0m\u001b[0m\n\u001b[0;32m----> 8\u001b[0;31m vvs_index_endpoint.deploy_index(\n\u001b[0m\u001b[1;32m      9\u001b[0m     \u001b[0mindex\u001b[0m \u001b[0;34m=\u001b[0m \u001b[0mvvs_index\u001b[0m\u001b[0;34m,\u001b[0m \u001b[0mdeployed_index_id\u001b[0m \u001b[0;34m=\u001b[0m \u001b[0mDEPLOYED_INDEX_ID\u001b[0m\u001b[0;34m,\u001b[0m \u001b[0mdeploy_request_timeout\u001b[0m\u001b[0;34m=\u001b[0m\u001b[0;36m2000\u001b[0m\u001b[0;34m\u001b[0m\u001b[0;34m\u001b[0m\u001b[0m\n\u001b[1;32m     10\u001b[0m )\n",
            "\u001b[0;32m/usr/local/lib/python3.10/dist-packages/google/cloud/aiplatform/matching_engine/matching_engine_index_endpoint.py\u001b[0m in \u001b[0;36mdeploy_index\u001b[0;34m(self, index, deployed_index_id, display_name, machine_type, min_replica_count, max_replica_count, enable_access_logging, reserved_ip_ranges, deployment_group, auth_config_audiences, auth_config_allowed_issuers, request_metadata, deploy_request_timeout)\u001b[0m\n\u001b[1;32m   1085\u001b[0m         )\n\u001b[1;32m   1086\u001b[0m \u001b[0;34m\u001b[0m\u001b[0m\n\u001b[0;32m-> 1087\u001b[0;31m         \u001b[0mdeploy_lro\u001b[0m\u001b[0;34m.\u001b[0m\u001b[0mresult\u001b[0m\u001b[0;34m(\u001b[0m\u001b[0mtimeout\u001b[0m\u001b[0;34m=\u001b[0m\u001b[0;32mNone\u001b[0m\u001b[0;34m)\u001b[0m\u001b[0;34m\u001b[0m\u001b[0;34m\u001b[0m\u001b[0m\n\u001b[0m\u001b[1;32m   1088\u001b[0m \u001b[0;34m\u001b[0m\u001b[0m\n\u001b[1;32m   1089\u001b[0m         _LOGGER.log_action_completed_against_resource(\n",
            "\u001b[0;32m/usr/local/lib/python3.10/dist-packages/google/api_core/future/polling.py\u001b[0m in \u001b[0;36mresult\u001b[0;34m(self, timeout, retry, polling)\u001b[0m\n\u001b[1;32m    254\u001b[0m         \"\"\"\n\u001b[1;32m    255\u001b[0m \u001b[0;34m\u001b[0m\u001b[0m\n\u001b[0;32m--> 256\u001b[0;31m         \u001b[0mself\u001b[0m\u001b[0;34m.\u001b[0m\u001b[0m_blocking_poll\u001b[0m\u001b[0;34m(\u001b[0m\u001b[0mtimeout\u001b[0m\u001b[0;34m=\u001b[0m\u001b[0mtimeout\u001b[0m\u001b[0;34m,\u001b[0m \u001b[0mretry\u001b[0m\u001b[0;34m=\u001b[0m\u001b[0mretry\u001b[0m\u001b[0;34m,\u001b[0m \u001b[0mpolling\u001b[0m\u001b[0;34m=\u001b[0m\u001b[0mpolling\u001b[0m\u001b[0;34m)\u001b[0m\u001b[0;34m\u001b[0m\u001b[0;34m\u001b[0m\u001b[0m\n\u001b[0m\u001b[1;32m    257\u001b[0m \u001b[0;34m\u001b[0m\u001b[0m\n\u001b[1;32m    258\u001b[0m         \u001b[0;32mif\u001b[0m \u001b[0mself\u001b[0m\u001b[0;34m.\u001b[0m\u001b[0m_exception\u001b[0m \u001b[0;32mis\u001b[0m \u001b[0;32mnot\u001b[0m \u001b[0;32mNone\u001b[0m\u001b[0;34m:\u001b[0m\u001b[0;34m\u001b[0m\u001b[0;34m\u001b[0m\u001b[0m\n",
            "\u001b[0;32m/usr/local/lib/python3.10/dist-packages/google/api_core/future/polling.py\u001b[0m in \u001b[0;36m_blocking_poll\u001b[0;34m(self, timeout, retry, polling)\u001b[0m\n\u001b[1;32m    137\u001b[0m             \u001b[0mpolling\u001b[0m\u001b[0;34m(\u001b[0m\u001b[0mself\u001b[0m\u001b[0;34m.\u001b[0m\u001b[0m_done_or_raise\u001b[0m\u001b[0;34m)\u001b[0m\u001b[0;34m(\u001b[0m\u001b[0mretry\u001b[0m\u001b[0;34m=\u001b[0m\u001b[0mretry\u001b[0m\u001b[0;34m)\u001b[0m\u001b[0;34m\u001b[0m\u001b[0;34m\u001b[0m\u001b[0m\n\u001b[1;32m    138\u001b[0m         \u001b[0;32mexcept\u001b[0m \u001b[0mexceptions\u001b[0m\u001b[0;34m.\u001b[0m\u001b[0mRetryError\u001b[0m\u001b[0;34m:\u001b[0m\u001b[0;34m\u001b[0m\u001b[0;34m\u001b[0m\u001b[0m\n\u001b[0;32m--> 139\u001b[0;31m             raise concurrent.futures.TimeoutError(\n\u001b[0m\u001b[1;32m    140\u001b[0m                 \u001b[0;34mf\"Operation did not complete within the designated timeout of \"\u001b[0m\u001b[0;34m\u001b[0m\u001b[0;34m\u001b[0m\u001b[0m\n\u001b[1;32m    141\u001b[0m                 \u001b[0;34mf\"{polling.timeout} seconds.\"\u001b[0m\u001b[0;34m\u001b[0m\u001b[0;34m\u001b[0m\u001b[0m\n",
            "\u001b[0;31mTimeoutError\u001b[0m: Operation did not complete within the designated timeout of 900 seconds."
          ]
        }
      ]
    },
    {
      "cell_type": "markdown",
      "source": [
        "#5.Perform a similarity search"
      ],
      "metadata": {
        "id": "QlcSxbnm9qS5"
      }
    },
    {
      "cell_type": "markdown",
      "source": [
        "## Retrieve the index of nearest neighbours"
      ],
      "metadata": {
        "id": "shh0cxWX-PZW"
      }
    },
    {
      "cell_type": "code",
      "source": [
        "def embed_query(text: str, task: str = \"RETRIEVAL_DOCUMENT\", model_name: str = \"textembedding-gecko@003\"):\n",
        "    model = TextEmbeddingModel.from_pretrained(model_name)\n",
        "    input = TextEmbeddingInput(text, task)\n",
        "    embeddings = model.get_embeddings([input])\n",
        "    return embeddings[0].values\n",
        "\n",
        "query_text = \"How might cinnamon supplementation interact with other dietary or lifestyle interventions for prediabetes management?\"\n",
        "query_embedding = embed_query(query_text)\n",
        "\n",
        "response = vvs_index_endpoint.find_neighbors(\n",
        "    deployed_index_id=DEPLOYED_INDEX_ID,\n",
        "    queries=[query_embedding],\n",
        "    num_neighbors=3\n",
        ")"
      ],
      "metadata": {
        "id": "eBsNkKnb9MoO"
      },
      "execution_count": null,
      "outputs": []
    },
    {
      "cell_type": "code",
      "source": [
        "print(response)"
      ],
      "metadata": {
        "colab": {
          "base_uri": "https://localhost:8080/"
        },
        "id": "fmXk5FsE91EL",
        "outputId": "ebc4024b-e532-4089-f518-ebff0ccb69ad"
      },
      "execution_count": null,
      "outputs": [
        {
          "output_type": "stream",
          "name": "stdout",
          "text": [
            "[[MatchNeighbor(id='25', distance=0.8718024492263794, feature_vector=[], crowding_tag='0', restricts=[], numeric_restricts=[]), MatchNeighbor(id='1', distance=0.8679857850074768, feature_vector=[], crowding_tag='0', restricts=[], numeric_restricts=[]), MatchNeighbor(id='62', distance=0.866719126701355, feature_vector=[], crowding_tag='0', restricts=[], numeric_restricts=[])]]\n"
          ]
        }
      ]
    },
    {
      "cell_type": "markdown",
      "source": [
        "##Convert index to embeddings"
      ],
      "metadata": {
        "id": "l_Gb_JwL-VZ0"
      }
    },
    {
      "cell_type": "code",
      "source": [
        "neighbor_id = response[0][0].id\n",
        "neighbor_embedding = vvs_index_endpoint.read_index_datapoints(deployed_index_id=DEPLOYED_INDEX_ID, ids= [neighbor_id],)\n",
        "print(neighbor_embedding)"
      ],
      "metadata": {
        "id": "iGGWuDpK95AL"
      },
      "execution_count": 90,
      "outputs": []
    },
    {
      "cell_type": "markdown",
      "source": [
        "##Convert Embeddings to texts"
      ],
      "metadata": {
        "id": "VVkkSsyQ-Y6G"
      }
    },
    {
      "cell_type": "code",
      "source": [
        "neighbor_ids = [neighbor.id for neighbor in response[0]]\n",
        "\n",
        "\n",
        "def fetch_text_chunks(ids, filename=filename):\n",
        "    texts = {}\n",
        "    with open(filename, 'r') as file:\n",
        "        for line in file:\n",
        "            data = json.loads(line)\n",
        "            if str(data['id']) in ids:  # Ensure the id from JSON is treated as a string for matching\n",
        "                texts[str(data['id'])] = data['text']\n",
        "    return [texts[id] for id in ids if id in texts]\n",
        "\n",
        "\n",
        "neighbor_texts = fetch_text_chunks([str(id) for id in neighbor_ids], filename=filename)\n",
        "\n",
        "\n",
        "print(neighbor_texts)"
      ],
      "metadata": {
        "colab": {
          "base_uri": "https://localhost:8080/"
        },
        "id": "c410zxKA-Nqz",
        "outputId": "2f8169ff-2e34-47ed-9a80-602056d885b6"
      },
      "execution_count": null,
      "outputs": [
        {
          "output_type": "stream",
          "name": "stdout",
          "text": [
            "['# Effect of cinnamon spice on continuously monitored glycemic response in adults with prediabetes: a 4-week randomized controlled crossover trial\\n\\n## CGM\\n\\n### TABLE 1\\n\\nBaseline characteristics of the study participants (n=18)^{1}', '# Effect of cinnamon spice on continuously monitored glycemic response in adults with prediabetes: a 4-week randomized controlled crossover trial\\n\\nHila Zelicha¹, Jieping Yang 2, Susanne M Henning 2, Jianjun Huang 2, Ru-Po Lee2, Gail Thames 2, Edward H Livingston¹, David Heber², Zhaoping Li 2,*Department of Surgery, University of California, Los Angeles, Los Angeles, CA, United States; 2 Department of Medicine, Center for Human Nutrition, David Geffen School of Medicine, Los Angeles, United States', '# Appendix A. Supplementary data\\n\\n## References\\n\\n### H. Zelicha et al.\\n\\n[54] M.L. Silva, M.A. Bernardo, J. Singh, M.F. de Mesquita, Cinnamon as a complementary therapeutic approach for dysglycemia and dyslipidemia control in type 2 diabetes mellitus and its molecular mechanism of action: a review, Nutrients 14 (13) (2022) 2773.[55] Q.Y. Lu, P.H. Summanen, R.P. Lee, J. Huang, S.M. Henning, D. Heber, et al., Prebiotic potential and chemical composition of seven culinary spice extracts, J Food Sci 82 (8) (2017) 1807-1813.[56] Q.Y. Lu, A.M. Rasmussen, J. Yang, R.P. Lee, J. Huang, P. Shao, et al., Mixed spices at culinary doses have prebiotic effects in healthy adults: A pilot study, Nutrients 11 (6) (2019).']\n"
          ]
        }
      ]
    },
    {
      "cell_type": "markdown",
      "source": [
        "# 6.Use results with Gemini\n",
        "\n",
        "- https://cloud.google.com/vertex-ai/generative-ai/docs/multimodal/send-chat-prompts-gemini\n",
        "- https://cloud.google.com/vertex-ai/generative-ai/docs/model-reference/inference"
      ],
      "metadata": {
        "id": "_IuyFAmLpbGN"
      }
    },
    {
      "cell_type": "code",
      "source": [
        "import vertexai\n",
        "\n",
        "from vertexai.generative_models import GenerativeModel, ChatSession\n",
        "\n",
        "vertexai.init(project=PROJECT_ID, location=REGION)\n",
        "model = GenerativeModel(model_name=\"gemini-1.0-pro-002\")\n",
        "chat = model.start_chat()\n",
        "\n",
        "def get_chat_response(chat: ChatSession, prompt: str) -> str:\n",
        "    text_response = []\n",
        "    responses = chat.send_message(prompt, stream=True)\n",
        "    for chunk in responses:\n",
        "        text_response.append(chunk.text)\n",
        "    return \"\".join(text_response)"
      ],
      "metadata": {
        "id": "8AgBI2_8nxJU"
      },
      "execution_count": null,
      "outputs": []
    },
    {
      "cell_type": "markdown",
      "source": [
        "## Try without context\n",
        "\n",
        "Response will be based on the internal knowledge from Gemini"
      ],
      "metadata": {
        "id": "_aaubktYpvpZ"
      }
    },
    {
      "cell_type": "code",
      "source": [
        "prompt = query_text\n",
        "print(get_chat_response(chat, prompt))"
      ],
      "metadata": {
        "colab": {
          "base_uri": "https://localhost:8080/"
        },
        "id": "Pzfq9TaapuOd",
        "outputId": "4189bbde-a5d1-4aa1-c0dc-cbbc9a2bad85"
      },
      "execution_count": null,
      "outputs": [
        {
          "output_type": "stream",
          "name": "stdout",
          "text": [
            "## Cinnamon and Prediabetes Management: Exploring Interactions with Other Interventions\n",
            "\n",
            "Cinnamon has shown promise as a natural supplement for managing prediabetes, but understanding its interactions with other dietary and lifestyle interventions is crucial for optimizing its effectiveness and safety. Here's a breakdown of potential interactions:\n",
            "\n",
            "**Dietary Interventions:**\n",
            "\n",
            "* **Fiber-rich foods:** Combining cinnamon with high-fiber foods like fruits, vegetables, and legumes can enhance its blood sugar-lowering effects. Fiber slows down the digestion and absorption of carbohydrates, leading to a more gradual rise in blood sugar levels.\n",
            "* **Low-glycemic index (GI) foods:** Pairing cinnamon with low-GI foods like whole grains, non-starchy vegetables, and lean protein can further improve blood sugar control. These foods cause a slower and smaller rise in blood sugar compared to high-GI foods.\n",
            "* **Mediterranean diet:** Studies suggest that incorporating cinnamon into a Mediterranean diet, rich in fruits, vegetables, whole grains, and healthy fats, can provide synergistic benefits for managing prediabetes and reducing cardiovascular risk.\n",
            "\n",
            "**Lifestyle Interventions:**\n",
            "\n",
            "* **Physical activity:** Engaging in regular physical activity, like brisk walking, swimming, or cycling, can significantly improve insulin sensitivity and blood sugar control. Combining cinnamon with exercise can amplify these benefits, leading to better overall prediabetes management.\n",
            "* **Stress management:** Chronic stress can negatively impact blood sugar control. Techniques like yoga, meditation, and deep breathing can help manage stress and potentially enhance the effectiveness of cinnamon in managing prediabetes.\n",
            "* **Weight management:** Losing even a small amount of weight can significantly improve blood sugar control and reduce the risk of developing type 2 diabetes. Combining cinnamon with a healthy weight-loss program can maximize these benefits.\n",
            "\n",
            "**Potential Interactions with Medications:**\n",
            "\n",
            "* **Blood sugar-lowering medications:** It's crucial to consult a healthcare professional before using cinnamon with blood sugar-lowering medications, as it might increase the risk of hypoglycemia (low blood sugar). Dosage adjustments may be necessary to avoid potential interactions.\n",
            "* **Blood-thinning medications:** Cinnamon may interact with blood-thinning medications like warfarin, increasing the risk of bleeding. Consult a healthcare professional before combining them.\n",
            "\n",
            "**Important Considerations:**\n",
            "\n",
            "* **Cinnamon type:** Ceylon cinnamon is generally considered safer than Cassia cinnamon, which contains higher levels of coumarin, a compound that can be harmful in large amounts.\n",
            "* **Dosage:** While studies suggest 1-6 grams of cinnamon daily can be beneficial, individual needs may vary. Consult a healthcare professional to determine the appropriate dosage for your specific situation.\n",
            "* **Safety:** Cinnamon is generally safe for most people, but some individuals may experience mild side effects like heartburn or allergic reactions.\n",
            "\n",
            "**Conclusion:**\n",
            "\n",
            "Cinnamon can be a valuable addition to a comprehensive prediabetes management plan, but it's essential to understand its interactions with other dietary and lifestyle interventions. Consulting a healthcare professional can help you create a personalized approach that optimizes the benefits of cinnamon while minimizing potential risks. \n",
            "\n",
            "Remember, cinnamon is not a magic bullet and should be used in conjunction with other evidence-based interventions like healthy eating, regular exercise, and stress management. By working with your healthcare provider, you can develop a safe and effective strategy for managing prediabetes and improving your overall health.\n"
          ]
        }
      ]
    },
    {
      "cell_type": "markdown",
      "source": [
        "## Try with context\n",
        "\n",
        "Response will be based on the context provided to Gemini"
      ],
      "metadata": {
        "id": "yTIhSGfYpzj0"
      }
    },
    {
      "cell_type": "code",
      "source": [
        "prompt = f\"{query_text} in the context of:{neighbor_texts}\"\n",
        "print(get_chat_response(chat, prompt))"
      ],
      "metadata": {
        "colab": {
          "base_uri": "https://localhost:8080/"
        },
        "id": "3zvwOzcNpnAq",
        "outputId": "1112e955-92b4-418f-b1e8-4e645340c6f3"
      },
      "execution_count": null,
      "outputs": [
        {
          "output_type": "stream",
          "name": "stdout",
          "text": [
            "## Cinnamon and Prediabetes: Interactions with Other Interventions\n",
            "\n",
            "As you mentioned, research including the study by Zelicha et al. suggests that cinnamon supplementation can positively impact blood sugar control in adults with prediabetes. However, it's important to consider how cinnamon interacts with other vital aspects of prediabetes management, including dietary and lifestyle interventions.\n",
            "\n",
            "**Dietary Interactions:**\n",
            "\n",
            "* **Fiber:** Studies suggest combining cinnamon with high-fiber foods may enhance its blood-sugar-lowering effects. Fiber slows down carbohydrate digestion and absorption, leading to a more gradual rise in blood sugar levels. This synergistic effect could be particularly beneficial for individuals with prediabetes.\n",
            "* **Low-GI foods:** Pairing cinnamon with low-GI foods like whole grains, non-starchy vegetables, and lean protein could further improve blood sugar control. These foods cause a slower and smaller rise in blood sugar compared to high-GI foods, potentially amplifying the benefits of cinnamon.\n",
            "* **Mediterranean diet:** Research indicates that incorporating cinnamon into a Mediterranean diet rich in fruits, vegetables, whole grains, and healthy fats could provide synergistic benefits for managing prediabetes. This dietary pattern is associated with improved blood sugar control and reduced cardiovascular risk.\n",
            "\n",
            "**Lifestyle Interactions:**\n",
            "\n",
            "* **Physical activity:** Engaging in regular physical activity, like brisk walking, swimming, or cycling, can significantly improve insulin sensitivity and blood sugar control. Combining cinnamon with exercise can amplify these benefits, leading to better overall management of prediabetes.\n",
            "* **Stress management:** Chronic stress can negatively impact blood sugar control. Techniques like yoga, meditation, and deep breathing can help manage stress, potentially improving the effectiveness of cinnamon in managing prediabetes.\n",
            "* **Weight management:** Even modest weight loss can significantly improve blood sugar control and reduce the risk of developing type 2 diabetes. Combining cinnamon with a healthy weight-loss approach can maximize these benefits.\n",
            "\n",
            "**Important Considerations:**\n",
            "\n",
            "* **Type of Cinnamon:** Ceylon cinnamon is generally considered safer than Cassia cinnamon due to lower coumarin levels, a compound with potential health concerns in high amounts.\n",
            "* **Dosage:** While research suggests 1-6 grams of cinnamon daily can be beneficial, individual needs may vary. Consulting a healthcare professional can help determine the optimal dosage for your situation.\n",
            "* **Safety:** Cinnamon is generally safe for most people, but some individuals may experience mild side effects like heartburn or allergic reactions.\n",
            "\n",
            "**Conclusion:**\n",
            "\n",
            "Cinnamon can be a valuable tool in a comprehensive approach to managing prediabetes, but its effectiveness is maximized when combined with a healthy diet, regular exercise, and other lifestyle interventions. Understanding the interactions between cinnamon and other aspects of your health plan is crucial for optimizing benefits and minimizing potential risks. \n",
            "\n",
            "Remember, cinnamon is not a substitute for evidence-based interventions. Working with a healthcare professional can ensure a safe and personalized approach to managing your prediabetes and improving overall health.\n",
            "\n",
            "\n"
          ]
        }
      ]
    },
    {
      "cell_type": "markdown",
      "source": [
        "## Try only from context\n",
        "\n",
        "Model instructed to answer only from the given context\n"
      ],
      "metadata": {
        "id": "wKZ4RpH9qAUj"
      }
    },
    {
      "cell_type": "code",
      "source": [
        "prompt = f\"{query_text} Answer only from the following context:{neighbor_texts}\"\n",
        "print(get_chat_response(chat, prompt))"
      ],
      "metadata": {
        "colab": {
          "base_uri": "https://localhost:8080/"
        },
        "id": "uHZiKL02pr4s",
        "outputId": "fa37a43d-c8c0-44ee-ddaa-35a45f519180"
      },
      "execution_count": null,
      "outputs": [
        {
          "output_type": "stream",
          "name": "stdout",
          "text": [
            "## Interactions of Cinnamon with Other Prediabetes Management Strategies (Based on Provided Context)\n",
            "\n",
            "While the provided context revolves around the study by Zelicha et al. which investigates the effect of cinnamon on glycemic response in adults with prediabetes, it does not offer sufficient information to specifically address interactions with other dietary and lifestyle interventions. Therefore, a comprehensive response focusing solely on this context cannot be provided.\n",
            "\n",
            "However, based on general knowledge and considering the study's conclusions, some potential interactions can be highlighted:\n",
            "\n",
            "**Possible Synergistic Effects:**\n",
            "\n",
            "* **High-fiber foods:** The slow digestion of fiber combined with cinnamon's blood sugar-lowering potential could lead to more sustained control of blood sugar levels.\n",
            "* **Low-GI foods:** Pairing cinnamon with low-GI selections might further reduce blood sugar spikes after meals, enhancing glycemic management.\n",
            "* **Regular physical activity:** Exercise improves insulin sensitivity, potentially amplifying the positive effects of cinnamon on blood sugar control.\n",
            "* **Stress management techniques:** Reducing stress could improve overall metabolic health and enhance the effectiveness of both cinnamon and other prediabetes management strategies.\n",
            "\n",
            "**Important Considerations:**\n",
            "\n",
            "* **Type of cinnamon:** The study focuses on Ceylon cinnamon, the safer variety with lower coumarin content.\n",
            "* **Dosage:** While the study employed 3 grams/day, individual needs may vary. Consulting a healthcare professional is crucial.\n",
            "* **Safety:** Although generally safe, individual sensitivities and potential drug interactions should be considered.\n",
            "\n",
            "\n",
            "**Overall, based on this limited context, we can infer that cinnamon might interact synergistically with other dietary and lifestyle interventions for prediabetes management.** However, for a more comprehensive and accurate understanding of these interactions, broader research and expert guidance are essential.\n",
            "\n"
          ]
        }
      ]
    },
    {
      "cell_type": "markdown",
      "source": [
        "#7.Clean Up GCP ENV"
      ],
      "metadata": {
        "id": "Wg2JQvb9wCmj"
      }
    },
    {
      "cell_type": "code",
      "source": [
        "to_clean = True\n"
      ],
      "metadata": {
        "id": "DcCb77bfwKCB"
      },
      "execution_count": null,
      "outputs": []
    },
    {
      "cell_type": "markdown",
      "source": [
        "## Delete Processor\n",
        "\n",
        "- Processor location: https://console.cloud.google.com/ai/document-ai/locations/< us-or-eu >/processors?project=< your-project-id >"
      ],
      "metadata": {
        "id": "ltCtaGOkwHgr"
      }
    },
    {
      "cell_type": "code",
      "source": [
        "from google.api_core import exceptions as gcp_exceptions\n",
        "\n",
        "if to_clean:\n",
        "    try:\n",
        "        client.delete_processor(name=processor_name)\n",
        "        print(f\"Deleted Processor: {processor_name}\")\n",
        "    except gcp_exceptions.NotFound:\n",
        "        print(f\"Processor not found: {processor_name}\")\n",
        "else:\n",
        "    print(\"clean_up parameter is set to False\")"
      ],
      "metadata": {
        "colab": {
          "base_uri": "https://localhost:8080/"
        },
        "id": "ZS2cKroMtU6j",
        "outputId": "914f3031-8caa-4537-affc-c2a91d4491e5"
      },
      "execution_count": null,
      "outputs": [
        {
          "output_type": "stream",
          "name": "stdout",
          "text": [
            "Deleted Processor: projects/314626027617/locations/us/processors/5d7d5f3c2d28335\n"
          ]
        }
      ]
    },
    {
      "cell_type": "markdown",
      "source": [
        "## Delete Vector Search index\n",
        "\n",
        "- https://console.cloud.google.com/vertex-ai/matching-engine/indexes?project=< your-project-id >"
      ],
      "metadata": {
        "id": "gWfzrXGdwXf6"
      }
    },
    {
      "cell_type": "code",
      "source": [
        "if to_clean:\n",
        "    try:\n",
        "        vvs_index.delete()  # Set force=True to bypass the check for deployed indexes\n",
        "        print(f\"Deleted Matching Engine Index: {index.resource_name}\")\n",
        "    except gcp_exceptions.NotFound:\n",
        "        print(f\"Index not found: {index.resource_name}\")\n",
        "    except Exception as e:\n",
        "        print(f\"Error deleting index: {e}\")\n",
        "else:\n",
        "    print(\"clean_up parameter is set to False\")"
      ],
      "metadata": {
        "colab": {
          "base_uri": "https://localhost:8080/"
        },
        "id": "miHzwhSywWwt",
        "outputId": "9abb2a13-5218-4561-c932-59e9a61ea142"
      },
      "execution_count": null,
      "outputs": [
        {
          "output_type": "stream",
          "name": "stderr",
          "text": [
            "INFO:google.cloud.aiplatform.base:Deleting MatchingEngineIndex : projects/314626027617/locations/northamerica-northeast1/indexes/5046494488701173760\n"
          ]
        },
        {
          "output_type": "stream",
          "name": "stdout",
          "text": [
            "Error deleting index: 400 The Index \"projects/314626027617/locations/northamerica-northeast1/indexes/5046494488701173760\" is deployed or being deployed at the following IndexEndpoint(s): projects/314626027617/locations/northamerica-northeast1/indexEndpoints/8155033762749480960.\n"
          ]
        }
      ]
    },
    {
      "cell_type": "markdown",
      "source": [
        "## Delete the deployed endpoint"
      ],
      "metadata": {
        "id": "g31AvdNUwvpG"
      }
    },
    {
      "cell_type": "code",
      "source": [
        "from google.api_core import exceptions\n",
        "\n",
        "if to_clean:\n",
        "    try:\n",
        "        # Undeploy the deployed index\n",
        "        try:\n",
        "            vvs_index_endpoint.undeploy_index(deployed_index_id=DEPLOYED_INDEX_ID)\n",
        "            print(f\"Undeployed index '{DEPLOYED_INDEX_ID}' from endpoint '{vvs_index_endpoint.name}'.\")\n",
        "        except exceptions.NotFound:\n",
        "            print(f\"Deployed index '{DEPLOYED_INDEX_ID}' not found in endpoint '{vvs_index_endpoint.name}'.\")\n",
        "\n",
        "        # Delete the index endpoint\n",
        "        vvs_index_endpoint.delete()\n",
        "        print(f\"Deleted index endpoint: {vvs_index_endpoint.name}\")\n",
        "\n",
        "    except exceptions.NotFound:\n",
        "        print(f\"Index endpoint not found: {vvs_index_endpoint.name}\")\n",
        "else:\n",
        "    print(\"clean_up parameter is set to False\")"
      ],
      "metadata": {
        "colab": {
          "base_uri": "https://localhost:8080/"
        },
        "id": "mZkdbfhqwtti",
        "outputId": "ed578f79-9c01-4a2c-9024-a7bd4727167c"
      },
      "execution_count": null,
      "outputs": [
        {
          "output_type": "stream",
          "name": "stderr",
          "text": [
            "INFO:google.cloud.aiplatform.matching_engine.matching_engine_index_endpoint:Undeploying index MatchingEngineIndexEndpoint index_endpoint: projects/314626027617/locations/northamerica-northeast1/indexEndpoints/8155033762749480960\n",
            "INFO:google.cloud.aiplatform.matching_engine.matching_engine_index_endpoint:Undeploy index MatchingEngineIndexEndpoint index_endpoint backing LRO: projects/314626027617/locations/northamerica-northeast1/indexEndpoints/8155033762749480960/operations/3997261878395928576\n",
            "INFO:google.cloud.aiplatform.matching_engine.matching_engine_index_endpoint:MatchingEngineIndexEndpoint index_endpoint Undeployed index. Resource name: projects/314626027617/locations/northamerica-northeast1/indexEndpoints/8155033762749480960\n",
            "INFO:google.cloud.aiplatform.base:Deleting MatchingEngineIndexEndpoint : projects/314626027617/locations/northamerica-northeast1/indexEndpoints/8155033762749480960\n"
          ]
        },
        {
          "output_type": "stream",
          "name": "stdout",
          "text": [
            "Undeployed index 'deployed_index_07090208' from endpoint '8155033762749480960'.\n"
          ]
        },
        {
          "output_type": "stream",
          "name": "stderr",
          "text": [
            "INFO:google.cloud.aiplatform.base:Delete MatchingEngineIndexEndpoint  backing LRO: projects/314626027617/locations/northamerica-northeast1/indexEndpoints/8155033762749480960/operations/3244034840718213120\n",
            "INFO:google.cloud.aiplatform.base:MatchingEngineIndexEndpoint deleted. . Resource name: projects/314626027617/locations/northamerica-northeast1/indexEndpoints/8155033762749480960\n"
          ]
        },
        {
          "output_type": "stream",
          "name": "stdout",
          "text": [
            "Deleted index endpoint: 8155033762749480960\n"
          ]
        }
      ]
    },
    {
      "cell_type": "markdown",
      "source": [
        "## Delete bucket\n",
        "\n",
        "- Bucket location: https://console.cloud.google.com/storage/"
      ],
      "metadata": {
        "id": "UlZ6qV9XxE7-"
      }
    },
    {
      "cell_type": "code",
      "source": [
        "if to_clean == True:\n",
        "    # Delete the bucket\n",
        "    ! gcloud storage rm --recursive gs://$BUCKET\n",
        "else:\n",
        "    print(\"delete_bucket parameter is set to False\")"
      ],
      "metadata": {
        "colab": {
          "base_uri": "https://localhost:8080/"
        },
        "id": "QkngrpGsxGNV",
        "outputId": "b2b53bc2-7cf3-4183-93ea-92a2abbb4ac8"
      },
      "execution_count": null,
      "outputs": [
        {
          "output_type": "stream",
          "name": "stdout",
          "text": [
            "Removing objects:\n",
            "Removing gs://rag-llmops-gcp-bucket/embeddings-data-07080211/batch_root/embeddings-07080211.json#1720406137994273...\n",
            "Removing gs://rag-llmops-gcp-bucket/embeddings-data-07090054/batch_root/embeddings-07090054.json#1720486516784355...\n",
            "Removing gs://rag-llmops-gcp-bucket/embeddings-data-07090208/batch_root/embeddings-07090208.json#1720490935672601...\n",
            "Removing buckets:\n",
            "Removing gs://rag-llmops-gcp-bucket/...\n"
          ]
        }
      ]
    }
  ]
}